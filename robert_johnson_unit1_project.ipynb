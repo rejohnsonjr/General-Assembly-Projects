{
 "cells": [
  {
   "cell_type": "markdown",
   "metadata": {},
   "source": [
    "<img src=\"http://imgur.com/1ZcRyrc.png\" style=\"float: left; margin: 20px; height: 55px\">\n",
    "\n",
    "# Project 1: Python Coding Exercises\n",
    "\n",
    "_Authors:  Joseph Nelson (DC)_\n",
    "\n",
    "---"
   ]
  },
  {
   "cell_type": "markdown",
   "metadata": {},
   "source": [
    "The following code challenges are drawn from common exercises used in technical interviews. This project is more about turning ideas into Python code than it is about developing algorithms, so we have provided \"pseudocode\" for the more challenging problems."
   ]
  },
  {
   "cell_type": "markdown",
   "metadata": {},
   "source": [
    "### Challenge 1: Largest Palindrome\n",
    "A palindromic number reads the same both ways. For example, 1234321 is a palindrome. The largest palindrome made from the product of two two-digit numbers is 9009 = 91 × 99. Find the largest palindrome made from the product of two three-digit numbers.\n",
    "\n",
    "Suggested algorithm:\n",
    "\n",
    "```\n",
    "- Initialize a variable `result` to 0.\n",
    "- For each number A 100 through 999:\n",
    "    - For each number B 100 through 999:\n",
    "        - Multiply A and B.\n",
    "        - Turn that product into a string (use `str` as a function).\n",
    "        - Reverse the string (use `my_string[::-1]`).\n",
    "        - If the string and its reverse are the same and the product is\n",
    "        greater than `result`,  set `result` to that new value.\n",
    "```"
   ]
  },
  {
   "cell_type": "code",
   "execution_count": 191,
   "metadata": {},
   "outputs": [
    {
     "name": "stdout",
     "output_type": "stream",
     "text": [
      "906609\n"
     ]
    }
   ],
   "source": [
    "result = 0\n",
    "product_list =[]\n",
    "palindrome_list = []\n",
    "A_range = range(100, 1000)  # first range 100 to 999\n",
    "B_range = range(100, 1000)  # second range 100 to 999\n",
    "\n",
    "for a in A_range:\n",
    "    for b in B_range:\n",
    "        product = (a*b)   # this will cycle thru the numbers and find the product of both numbers\n",
    "        my_string = str(product) # this turns the product to a string\n",
    "        product_list.append(my_string) # adds the string to the product list \n",
    "\n",
    "for my_string in product_list:\n",
    "    if (my_string) == (my_string[::-1]):  # this checks if the product is a palindrome\n",
    "            palindrome = my_string        # if product is a palindrome it is labled as palindrome \n",
    "            palindrome_list.append(palindrome) # palindrome is added to the palindrome list\n",
    "                  \n",
    "for palindrome in palindrome_list:\n",
    "    if int(palindrome) >int(result): # this compares palindromes to decided which one is largest\n",
    "        result = palindrome          # this assings the largest number to result\n",
    "  \n",
    "        \n",
    "print(result)  # the result is the largest palindrome"
   ]
  },
  {
   "cell_type": "markdown",
   "metadata": {},
   "source": [
    "### Challenge 2: Summation of Primes\n",
    "The sum of the primes below 10 is 2 + 3 + 5 + 7 = 17. Find the sum of all the primes below 2,000.\n",
    "\n",
    "Suggested algorithm:\n",
    "\n",
    "```\n",
    "- Initialize an empty list of primes.\n",
    "\n",
    "- For every number A from 2 to 2,000:\n",
    "    - Set a variable `is_prime` to true.\n",
    "    - For every number B in our list of primes:\n",
    "        - If A divided by B gives no remainder, set `is_prime` to false.\n",
    "        - Optional: Use the command `break` to end the loop over primes at this point.\n",
    "    - If `is_prime` is still true, append A to our list of primes.\n",
    "    \n",
    "- Add up the primes.\n",
    "```"
   ]
  },
  {
   "cell_type": "code",
   "execution_count": 218,
   "metadata": {},
   "outputs": [
    {
     "name": "stdout",
     "output_type": "stream",
     "text": [
      "1998999\n"
     ]
    }
   ],
   "source": [
    "list_of_primes = []  # where primes are stored\n",
    "\n",
    "for A in range(2,2000):     # first range from 2 to 1999\n",
    "    is_prime == True        # looking for primes in first range\n",
    "    for B in range(2,2000): # second range from 2 1999\n",
    "        if A%B == 0:        # look for 0 remainder of A/B\n",
    "            is_prime == False  # sets prime to remander to zero\n",
    "            \n",
    "    if is_prime == True:               \n",
    "        list_of_primes.append(A)   # add prime to list of primes\n",
    "    \n",
    "prime_total = sum(list_of_primes) # sums list of primes\n",
    "  \n",
    "print(prime_total)     # final answer\n",
    "    "
   ]
  },
  {
   "cell_type": "markdown",
   "metadata": {},
   "source": [
    "### Challenge 3: Multiples of 3 and 5\n",
    "If we list all of the natural numbers below 10 that are multiples of 3 or 5, we get 3, 5, 6, and 9. The sum of these multiples is 23. Find the sum of all the multiples of 3 and 5 below 1,000."
   ]
  },
  {
   "cell_type": "code",
   "execution_count": 1,
   "metadata": {},
   "outputs": [
    {
     "name": "stdout",
     "output_type": "stream",
     "text": [
      "266333\n"
     ]
    }
   ],
   "source": [
    "natural_three = range(0,1000,3) # multiples of 3 below 1000\n",
    "\n",
    "natural_five = range(0,1000,5)  # multiples of 5 belwo 1000\n",
    "\n",
    "sum_nat_five = sum(natural_five)  # sum of multiples of 5 below 1000\n",
    "\n",
    "sum_nat_three = sum(natural_three) # sum of multiples of 3 below 1000\n",
    "\n",
    "challenge_three_ans = sum_nat_three + sum_nat_five # sum of the two sum of multiples\n",
    "\n",
    "print(challenge_three_ans)  # final answer"
   ]
  },
  {
   "cell_type": "markdown",
   "metadata": {},
   "source": [
    "### Challenge 4: String Compressor\n",
    "Write a function to perform basic string compression using the counts of repeated characters. (This is called run-length encoding.) For example, the string \"aabcccccaaa\" would become a2b1c5a3. If the “compressed” string would not become smaller than the original string, your method should return the original string. You can assume the string has only uppercase and lowercase letters (a–z). Specify whether your solution is case sensitive or case insensitive and what you would need to change to make it the other.\n",
    "\n",
    "Suggested algorithm:\n",
    "\n",
    "```\n",
    "- Initialize an empty string to hold the compressed version of the input string\n",
    "- Initialize an empty string to hold the character we are currently tallying up\n",
    "- Initialize a counter variable to 0\n",
    "\n",
    "- For each letter in the input string:\n",
    "    - If that letter matches the letter we are counting, increment the counter by 1\n",
    "    - Otherwise:\n",
    "        - If the counter value is greater than 0, add the letter we have been counting\n",
    "        and its count to our compressed string\n",
    "        - Update the letter we are counting\n",
    "        - Set the counter to 1\n",
    "\n",
    "- Append the last letter we were counting and its count to our compressed string\n",
    "```\n",
    "\n",
    "**Suggestion:** Test your function on a few sample inputs. Try to come up with \"edge cases\" that might make it fail (e.g. empty strings, strings with all the same character, strings containing non-alphabetic characters, etc.)"
   ]
  },
  {
   "cell_type": "code",
   "execution_count": 20,
   "metadata": {},
   "outputs": [
    {
     "name": "stdin",
     "output_type": "stream",
     "text": [
      "enter your statement of upper and lowercase letters only here: aaa bb oooooooooo\n"
     ]
    },
    {
     "name": "stdout",
     "output_type": "stream",
     "text": [
      "a3 o10 c0  bb\n"
     ]
    }
   ],
   "source": [
    "\n",
    "rest_letters = ''  #string for non-compressed leters\n",
    "\n",
    "compressed_string = ''  #string for counted leters\n",
    "\n",
    "tallying_string = ''   #string for total leters\n",
    "\n",
    "count_var_a = 0     # count for first letter\n",
    "\n",
    "count_var_o = 0     # count for second letter\n",
    "\n",
    "count_var_c = 0     # count for thrid letter\n",
    "\n",
    "\n",
    "\n",
    "your_statement = input(((str(\"Enter your statement of upper and lowercase letters only here:  \")).strip()).lower()) # input string with spaces striped and made lower case\n",
    "\n",
    "\n",
    "for i in your_statement:\n",
    "    if i == 'a' or i == 'A':                            # looks for a\n",
    "        compressed_string = compressed_string + i       # adds a to compressed string\n",
    "        count_var_a = count_var_a + 1                   # moves a counter\n",
    "        tallying_string = tallying_string + i           # adds a to tallying string\n",
    "\n",
    "    elif i == 'o' or i == 'O':                          # looks for o\n",
    "        compressed_string = compressed_string + i       # adds o to compressed string\n",
    "        count_var_o = count_var_o + 1                   # moves o counter\n",
    "        tallying_string = tallying_string + i           # adds o to tallying string\n",
    "\n",
    "    elif i == 'c'or i == 'C':                           # looks for c\n",
    "        compressed_string = compressed_string + i       # adds c to compressed string\n",
    "        count_var_c = count_var_c + 1                   # moves c counter\n",
    "        tallying_string = tallying_string + i           # adds c to tallying string\n",
    "    \n",
    "    else:\n",
    "        rest_letters = rest_letters + i                 # add letters to non-compresssed string\n",
    "                                \n",
    "            \n",
    "string_out = f\"a{count_var_a} o{count_var_o} c{count_var_c} {rest_letters}\"     # final compressed sting\n",
    "\n",
    "if len(your_statement.strip()) == 0:                                            # will not let input string be empty\n",
    "    print(\"Please enter atleast one letter or number as your input\")\n",
    "\n",
    "elif len(your_statement.strip()) > len(string_out.strip()):                   # compares stings print final string if shorter\n",
    "    \n",
    "    print (string_out.strip())                                               \n",
    "\n",
    "elif len(your_statement.strip()) < len(string_out.strip()):                 # compares strings print input sting if shorter\n",
    "    \n",
    "    print(your_statement.strip())\n",
    "    "
   ]
  },
  {
   "cell_type": "markdown",
   "metadata": {},
   "source": [
    "### Challenge 5: FizzBuzz\n",
    "Write a program that prints all of the numbers from 1 to 100. For multiples of 3, instead of the number, print \"Fizz;\" for multiples of 5, print \"Buzz.\" For numbers that are multiples of both 3 and 5, print \"FizzBuzz.\""
   ]
  },
  {
   "cell_type": "code",
   "execution_count": 56,
   "metadata": {},
   "outputs": [
    {
     "name": "stdout",
     "output_type": "stream",
     "text": [
      "[1, 2, 'Fizz', 4, 'Buzz', 'Fizz', 7, 8, 'Fizz', 'Buzz', 11, 'Fizz', 13, 14, 'FizzBuzz', 16, 17, 'Fizz', 19, 'Buzz', 'Fizz', 22, 23, 'Fizz', 'Buzz', 26, 'Fizz', 28, 29, 'FizzBuzz', 31, 32, 'Fizz', 34, 'Buzz', 'Fizz', 37, 38, 'Fizz', 'Buzz', 41, 'Fizz', 43, 44, 'FizzBuzz', 46, 47, 'Fizz', 49, 'Buzz', 'Fizz', 52, 53, 'Fizz', 'Buzz', 56, 'Fizz', 58, 59, 'FizzBuzz', 61, 62, 'Fizz', 64, 'Buzz', 'Fizz', 67, 68, 'Fizz', 'Buzz', 71, 'Fizz', 73, 74, 'FizzBuzz', 76, 77, 'Fizz', 79, 'Buzz', 'Fizz', 82, 83, 'Fizz', 'Buzz', 86, 'Fizz', 88, 89, 'FizzBuzz', 91, 92, 'Fizz', 94, 'Buzz', 'Fizz', 97, 98, 'Fizz', 'Buzz']\n"
     ]
    }
   ],
   "source": [
    "fizz_buzz_list = []                                # emptly list\n",
    "\n",
    "whole_range = range(1, 101)                        # numbers 1 to 100\n",
    "\n",
    "for i in whole_range:\n",
    "    if i%3 == 0 and i%5 == 0:                       # is number factor of 3 and 5\n",
    "        i = \"FizzBuzz\"                              # return FizzBuzz\n",
    "        fizz_buzz_list.append(i)                    # add FizzBuzz to list\n",
    "\n",
    "    elif i%5 == 0:                                  # is number factor of 5\n",
    "        i = 'Buzz'                                  # return Buzz\n",
    "        fizz_buzz_list.append(i)                    # add Buzz to list\n",
    "    \n",
    "    elif i%3 == 0:                                  # is number factor of 3\n",
    "        i = 'Fizz'                                  # return Fizz\n",
    "        fizz_buzz_list.append(i)                    # add Fizz to list\n",
    "    \n",
    "    else:\n",
    "        fizz_buzz_list.append(i)                     # add number to list\n",
    "        \n",
    "print(fizz_buzz_list)                                 # final list"
   ]
  },
  {
   "cell_type": "code",
   "execution_count": null,
   "metadata": {},
   "outputs": [],
   "source": []
  }
 ],
 "metadata": {
  "anaconda-cloud": {},
  "kernelspec": {
   "display_name": "Python 3",
   "language": "python",
   "name": "python3"
  },
  "language_info": {
   "codemirror_mode": {
    "name": "ipython",
    "version": 3
   },
   "file_extension": ".py",
   "mimetype": "text/x-python",
   "name": "python",
   "nbconvert_exporter": "python",
   "pygments_lexer": "ipython3",
   "version": "3.7.3"
  }
 },
 "nbformat": 4,
 "nbformat_minor": 2
}
